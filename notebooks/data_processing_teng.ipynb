{
 "cells": [
  {
   "cell_type": "markdown",
   "id": "d2fbff2f",
   "metadata": {},
   "source": [
    "# HEAD AND SHOULDERS YOUTUBE CODE"
   ]
  },
  {
   "cell_type": "code",
   "execution_count": null,
   "id": "4598d228-401d-4c78-9986-bc8511aa0b3d",
   "metadata": {
    "execution": {
     "iopub.execute_input": "2023-05-09T23:10:55.179880Z",
     "iopub.status.busy": "2023-05-09T23:10:55.179429Z",
     "iopub.status.idle": "2023-05-09T23:10:55.218614Z",
     "shell.execute_reply": "2023-05-09T23:10:55.217136Z",
     "shell.execute_reply.started": "2023-05-09T23:10:55.179839Z"
    }
   },
   "outputs": [],
   "source": [
    "df = pd.read_csv('FX_EURUSD, 1D.csv')"
   ]
  },
  {
   "cell_type": "code",
   "execution_count": null,
   "id": "0ac58b80-eab1-470a-af68-e9597c120363",
   "metadata": {
    "execution": {
     "iopub.execute_input": "2023-05-09T23:10:55.865431Z",
     "iopub.status.busy": "2023-05-09T23:10:55.864788Z",
     "iopub.status.idle": "2023-05-09T23:10:55.884241Z",
     "shell.execute_reply": "2023-05-09T23:10:55.882865Z",
     "shell.execute_reply.started": "2023-05-09T23:10:55.865431Z"
    }
   },
   "outputs": [],
   "source": [
    "df.head()"
   ]
  },
  {
   "cell_type": "code",
   "execution_count": null,
   "id": "9b9de958-2aa4-4cc0-82e3-f179ef58d1f3",
   "metadata": {
    "execution": {
     "iopub.execute_input": "2023-05-10T17:52:18.563817Z",
     "iopub.status.busy": "2023-05-10T17:52:18.562475Z",
     "iopub.status.idle": "2023-05-10T17:52:18.570201Z",
     "shell.execute_reply": "2023-05-10T17:52:18.567900Z",
     "shell.execute_reply.started": "2023-05-10T17:52:18.563802Z"
    }
   },
   "outputs": [],
   "source": [
    "import pandas as pd\n",
    "import matplotlib.pyplot as plt\n",
    "import matplotlib.dates as mdates\n",
    "import numpy as np"
   ]
  },
  {
   "cell_type": "code",
   "execution_count": null,
   "id": "eba3b848",
   "metadata": {
    "execution": {
     "iopub.execute_input": "2023-05-10T17:52:19.120086Z",
     "iopub.status.busy": "2023-05-10T17:52:19.119633Z",
     "iopub.status.idle": "2023-05-10T17:52:19.127541Z",
     "shell.execute_reply": "2023-05-10T17:52:19.125950Z",
     "shell.execute_reply.started": "2023-05-10T17:52:19.120058Z"
    }
   },
   "outputs": [],
   "source": [
    "# df = pd.read_csv('/Users/tengliang/Documents/GitHub/head_shoulder_bots/data/bitcoin/btc_1h_2015_10_08.csv', \n",
    "#                          parse_dates=['date'],\n",
    "#                          index_col=['date'],\n",
    "#                          header=1\n",
    "#                         )\n",
    "\n",
    "#df_list = [\"FX_EURUSD, 1D.csv\",\"FX_EURUSD, 1200.csv\",\"FX_EURUSD, 960.csv\",\"FX_EURUSD, 720.csv\",\"FX_EURUSD, 480.csv\",\"FX_EURUSD, 240.csv\",\"FX_EURUSD, 60.csv\",]\n",
    "#df_list = [\"BATS_SPY, 60.csv\",\"BATS_SPY, 240.csv\",\"BATS_SPY, 480.csv\",\"BATS_SPY, 720.csv\",\"BATS_SPY, 960.csv\",\"BATS_SPY, 1200.csv\",\"BATS_SPY, 1D (7).csv\",]\n",
    "#df_list = [\"FX_USDJPY, 1D.csv\",\"FX_USDJPY, 1200.csv\",\"FX_USDJPY, 960.csv\",\"FX_USDJPY, 720.csv\",\"FX_USDJPY, 480.csv\",\"FX_USDJPY, 240.csv\",\"FX_USDJPY, 60.csv\",]\n",
    "#df_list = [\"FX_GBPUSD, 1D.csv\",\"FX_GBPUSD, 1200.csv\",\"FX_GBPUSD, 960.csv\",\"FX_GBPUSD, 720.csv\",\"FX_GBPUSD, 480.csv\",\"FX_GBPUSD, 240.csv\",\"FX_GBPUSD, 60.csv\",]\n",
    "#df_list = [\"FX_AUDUSD, 1D.csv\",\"FX_AUDUSD, 1200.csv\",\"FX_AUDUSD, 960.csv\",\"FX_AUDUSD, 720.csv\",\"FX_AUDUSD, 480.csv\",\"FX_AUDUSD, 240.csv\",\"FX_AUDUSD, 60.csv\",]\n",
    "df_list = [\"FX_USDCAD, 1D.csv\",\"FX_USDCAD, 1200.csv\",\"FX_USDCAD, 960.csv\",\"FX_USDCAD, 720.csv\",\"FX_USDCAD, 480.csv\",\"FX_USDCAD, 240.csv\",\"FX_USDCAD, 60.csv\",]\n",
    "\n",
    "hs_size = {\"big\" : [45,15], \"medium\" : [15,5], \"small\":[5,2]}\n",
    "#df = pd.read_csv('FX_EURUSD, 1D.csv')\n",
    "#df = pd.read_csv('FX_EURUSD, 1200.csv')\n",
    "#df = pd.read_csv('FX_EURUSD, 240.csv')\n",
    "#df = pd.read_csv('btc_1d_regular.csv')\n",
    "# Remove the MultiIndex header and reset the column names\n",
    "#df.columns = df.iloc[0]\n",
    "#df = df[1:].reset_index(drop=True)\n",
    "\n",
    "#df = df.rename(columns={'Volume BTC': 'volume','date':'time'})"
   ]
  },
  {
   "cell_type": "code",
   "execution_count": null,
   "id": "13c13f16-4409-4863-b2a4-477e7d6b17b6",
   "metadata": {
    "execution": {
     "iopub.execute_input": "2023-05-10T17:52:20.243874Z",
     "iopub.status.busy": "2023-05-10T17:52:20.243371Z",
     "iopub.status.idle": "2023-05-10T17:52:24.194938Z",
     "shell.execute_reply": "2023-05-10T17:52:24.193734Z",
     "shell.execute_reply.started": "2023-05-10T17:52:20.243867Z"
    }
   },
   "outputs": [],
   "source": [
    "!pip install plotly"
   ]
  },
  {
   "cell_type": "code",
   "execution_count": null,
   "id": "6ce37d0c-2aee-4b26-804e-f737a1e40416",
   "metadata": {
    "execution": {
     "iopub.execute_input": "2023-05-10T17:52:24.197116Z",
     "iopub.status.busy": "2023-05-10T17:52:24.196829Z",
     "iopub.status.idle": "2023-05-10T17:52:28.332079Z",
     "shell.execute_reply": "2023-05-10T17:52:28.330465Z",
     "shell.execute_reply.started": "2023-05-10T17:52:24.197073Z"
    }
   },
   "outputs": [],
   "source": [
    "!pip install -U kaleido"
   ]
  },
  {
   "cell_type": "code",
   "execution_count": null,
   "id": "7b25c76e-16d7-4628-9777-1914c0e8081f",
   "metadata": {
    "execution": {
     "iopub.execute_input": "2023-05-10T17:52:28.334975Z",
     "iopub.status.busy": "2023-05-10T17:52:28.334447Z",
     "iopub.status.idle": "2023-05-10T17:52:28.344152Z",
     "shell.execute_reply": "2023-05-10T17:52:28.341819Z",
     "shell.execute_reply.started": "2023-05-10T17:52:28.334947Z"
    }
   },
   "outputs": [],
   "source": [
    "import plotly.io as pio\n",
    "import plotly.graph_objects as go\n",
    "from plotly.subplots import make_subplots\n",
    "from datetime import datetime\n",
    "import os"
   ]
  },
  {
   "cell_type": "code",
   "execution_count": null,
   "id": "f42c9236-3f59-4dfa-b241-e0db1de223bd",
   "metadata": {
    "execution": {
     "iopub.execute_input": "2023-05-10T17:52:28.348995Z",
     "iopub.status.busy": "2023-05-10T17:52:28.347350Z",
     "iopub.status.idle": "2023-05-10T17:52:28.358034Z",
     "shell.execute_reply": "2023-05-10T17:52:28.355778Z",
     "shell.execute_reply.started": "2023-05-10T17:52:28.348917Z"
    }
   },
   "outputs": [],
   "source": [
    "for size in hs_size:\n",
    "    print(hs_size[size][0])"
   ]
  },
  {
   "cell_type": "code",
   "execution_count": null,
   "id": "f9e904e9-569b-4994-ac3a-449be70cb7db",
   "metadata": {
    "execution": {
     "iopub.execute_input": "2023-05-10T17:52:28.361213Z",
     "iopub.status.busy": "2023-05-10T17:52:28.360236Z",
     "iopub.status.idle": "2023-05-10T17:52:28.371899Z",
     "shell.execute_reply": "2023-05-10T17:52:28.370780Z",
     "shell.execute_reply.started": "2023-05-10T17:52:28.361178Z"
    }
   },
   "outputs": [],
   "source": [
    "def pivotid(df1, l, n1, n2): #n1 n2 before and after candle l\n",
    "    if l-n1 < 0 or l+n2 >= len(df1):\n",
    "        return 0\n",
    "    \n",
    "    pividlow=1\n",
    "    pividhigh=1\n",
    "    for i in range(l-n1, l+n2+1):\n",
    "        if(df1.low[l]>df1.low[i]):\n",
    "            pividlow=0\n",
    "        if(df1.high[l]<df1.high[i]):\n",
    "            pividhigh=0\n",
    "    if pividlow and pividhigh:\n",
    "        return 3\n",
    "    elif pividlow:\n",
    "        return 1\n",
    "    elif pividhigh:\n",
    "        return 2\n",
    "    else:\n",
    "        return 0\n",
    "    \n",
    "import numpy as np\n",
    "\n",
    "def pointpos(x):\n",
    "    if x['pivot'] == 1:\n",
    "        return x['low'] - 1e-3\n",
    "    elif x['pivot'] == 2:\n",
    "        return x['high'] + 1e-3\n",
    "    else:\n",
    "        return np.nan\n",
    "\n",
    "def shortpointpos(x):\n",
    "    if x['shortpivot'] == 1:\n",
    "        return x['low'] - 2e-3\n",
    "    elif x['shortpivot'] == 2:\n",
    "        return x['high'] + 2e-3\n",
    "    else:\n",
    "        return np.nan"
   ]
  },
  {
   "cell_type": "markdown",
   "id": "73f5480e-aea4-4b4c-b7dd-f8a713e0c4eb",
   "metadata": {},
   "source": [
    "#### the below function plots and saves head and shoulder as png"
   ]
  },
  {
   "cell_type": "code",
   "execution_count": null,
   "id": "4682b234-3b8f-4d85-8233-2cd4aae67a26",
   "metadata": {
    "execution": {
     "iopub.execute_input": "2023-05-10T14:56:43.467739Z",
     "iopub.status.busy": "2023-05-10T14:56:43.466460Z",
     "iopub.status.idle": "2023-05-10T15:07:38.701379Z",
     "shell.execute_reply": "2023-05-10T15:07:38.700617Z",
     "shell.execute_reply.started": "2023-05-10T14:56:43.467739Z"
    }
   },
   "outputs": [],
   "source": [
    "count = 0\n",
    "for size in hs_size:\n",
    "    for stock_df in df_list:\n",
    "        df = pd.read_csv(stock_df)\n",
    "        df['pivot'] = df.apply(lambda x: pivotid(df, x.name,hs_size[size][0],hs_size[size][0]), axis=1)\n",
    "        df['shortpivot'] = df.apply(lambda x: pivotid(df, x.name,hs_size[size][1],hs_size[size][1]), axis=1)\n",
    "        df['pointpos'] = df.apply(lambda row: pointpos(row), axis=1)\n",
    "        df['shortpointpos'] = df.apply(lambda row: shortpointpos(row), axis=1)\n",
    "        import matplotlib.pyplot as plt\n",
    "        from scipy.stats import linregress\n",
    "\n",
    "        backcandles= hs_size[size][0]-1 #!!!should be less than pivot candles\n",
    "\n",
    "        for candleid in range(0, len(df)-backcandles):\n",
    "            if df.iloc[candleid].pivot != 2 or df.iloc[candleid].shortpivot != 2:\n",
    "                continue\n",
    "\n",
    "            maxim = np.array([])\n",
    "            minim = np.array([])\n",
    "            xxmin = np.array([])\n",
    "            xxmax = np.array([])\n",
    "            minbcount=0 #minimas before head\n",
    "            maxbcount=0 #maximas before head\n",
    "            minacount=0 #minimas after head\n",
    "            maxacount=0 #maximas after head\n",
    "\n",
    "            for i in range(candleid-backcandles, candleid+backcandles):\n",
    "                if df.iloc[i].shortpivot == 1:\n",
    "                    minim = np.append(minim, df.iloc[i].low)\n",
    "                    xxmin = np.append(xxmin, i)\n",
    "                    if i < candleid:\n",
    "                        minbcount=+1\n",
    "                    elif i>candleid:\n",
    "                        minacount+=1\n",
    "                if df.iloc[i].shortpivot == 2:\n",
    "                    maxim = np.append(maxim, df.iloc[i].high)\n",
    "                    xxmax = np.append(xxmax, i)\n",
    "                    if i < candleid:\n",
    "                        maxbcount+=1\n",
    "                    elif i>candleid:\n",
    "                        maxacount+=1\n",
    "\n",
    "            if minbcount<1 or minacount<1 or maxbcount<1 or maxacount<1:\n",
    "                continue\n",
    "\n",
    "            slmin, intercmin, rmin, pmin, semin = linregress(xxmin, minim)\n",
    "\n",
    "            headidx = np.argmax(maxim, axis=0)\n",
    "            if maxim[headidx]-maxim[headidx-1]>1.5e-3 and maxim[headidx]-maxim[headidx+1]>1.5e-3 and xxmin[0]>xxmax[headidx-1] and xxmin[1]<xxmax[headidx+1]:# and (maxim[headidx]-maxim[headidx+1])>(maxim[headidx+1]-minim[headidx+1]) and (maxim[headidx]-maxim[headidx-1])>(maxim[headidx-1]-minim[headidx-1]) :\n",
    "                dfpl = df[candleid-backcandles: candleid+backcandles]\n",
    "                plt.plot(dfpl.index, dfpl['close'])\n",
    "\n",
    "                # Remove tick labels\n",
    "                plt.gca().set_xticklabels([])\n",
    "                plt.gca().set_yticklabels([])\n",
    "\n",
    "                # Remove tick marks\n",
    "                plt.gca().tick_params(axis='x', length=0)\n",
    "                plt.gca().tick_params(axis='y', length=0)\n",
    "\n",
    "                # Replace 'hs' with the desired folder name\n",
    "                folder_name = 'hs'\n",
    "\n",
    "                # Check if the folder exists, if not, create it\n",
    "                if not os.path.exists(folder_name):\n",
    "                    os.makedirs(folder_name)\n",
    "\n",
    "                folder_path = os.path.abspath(folder_name)\n",
    "                print(f\"Folder path: {folder_path}\")\n",
    "\n",
    "                # Save the plot to the folder\n",
    "                file_path = f'{folder_name}/closing_price_lineplot_{stock_df}_{size}_{candleid}.png'\n",
    "                plt.savefig(file_path, dpi=50)\n",
    "                print(f\"File saved at: {os.path.abspath(file_path)}\")\n",
    "                print(f\"SIZE IS {size}\")\n",
    "                print(f\"count is {count}\")\n",
    "                plt.show()\n",
    "\n",
    "                count+=1\n",
    "\n",
    "                fig = go.Figure(data=[go.Candlestick(x=dfpl.index,\n",
    "                                open=dfpl['open'],\n",
    "                                high=dfpl['high'],\n",
    "                                low=dfpl['low'],\n",
    "                                close=dfpl['close'])])\n",
    "                fig.update_layout(\n",
    "                    xaxis_rangeslider_visible=False,\n",
    "                    xaxis=dict(\n",
    "                        showticklabels=False  # Remove x-axis tick labels (numbers)\n",
    "                    ),\n",
    "                    yaxis=dict(\n",
    "                        showticklabels=False  # Remove y-axis tick labels (numbers)\n",
    "                    )\n",
    "                )\n",
    "                fig.show()\n",
    "                # Replace the folder path below with your desired folder path\n",
    "                folder_path = \"hs/\"\n",
    "                file_name = f\"candlestick_plot_{stock_df}_{size}_{candleid}.png\"\n",
    "                full_path = folder_path + file_name\n",
    "                pio.write_image(fig, full_path, format=\"png\")\n",
    "\n",
    "\n",
    "            if candleid % 1000 == 0:\n",
    "                print(candleid)\n"
   ]
  },
  {
   "cell_type": "code",
   "execution_count": null,
   "id": "7d0af74c-c119-4886-8f0a-2d279f03b863",
   "metadata": {
    "execution": {
     "iopub.status.busy": "2023-04-26T21:38:49.613963Z",
     "iopub.status.idle": "2023-04-26T21:38:49.614564Z",
     "shell.execute_reply": "2023-04-26T21:38:49.614454Z",
     "shell.execute_reply.started": "2023-04-26T21:38:49.614440Z"
    }
   },
   "outputs": [],
   "source": [
    "!zip -r hs.zip hs\n"
   ]
  },
  {
   "cell_type": "code",
   "execution_count": null,
   "id": "c075893e-fcc7-4e7d-a8aa-8525da783322",
   "metadata": {
    "execution": {
     "iopub.status.busy": "2023-04-26T21:38:49.615540Z",
     "iopub.status.idle": "2023-04-26T21:38:49.616323Z",
     "shell.execute_reply": "2023-04-26T21:38:49.616189Z",
     "shell.execute_reply.started": "2023-04-26T21:38:49.616170Z"
    }
   },
   "outputs": [],
   "source": [
    "from IPython.display import FileLink\n",
    "FileLink('hs.zip')\n"
   ]
  },
  {
   "cell_type": "markdown",
   "id": "a78ca0a2-1c05-4dab-ac88-c9b37470f132",
   "metadata": {},
   "source": [
    "#### Below plots non-head and shoulder patterns:"
   ]
  },
  {
   "cell_type": "code",
   "execution_count": null,
   "id": "3a05f3b9-52e3-4e0d-b641-c779a11cbeb6",
   "metadata": {
    "execution": {
     "iopub.execute_input": "2023-05-10T17:58:54.281598Z",
     "iopub.status.busy": "2023-05-10T17:58:54.280954Z",
     "iopub.status.idle": "2023-05-10T17:58:55.385867Z",
     "shell.execute_reply": "2023-05-10T17:58:55.384326Z",
     "shell.execute_reply.started": "2023-05-10T17:58:54.281562Z"
    }
   },
   "outputs": [],
   "source": [
    "import os\n",
    "import numpy as np\n",
    "import pandas as pd\n",
    "import matplotlib.pyplot as plt\n",
    "from scipy.stats import linregress\n",
    "import plotly.graph_objs as go\n",
    "import plotly.io as pio\n",
    "\n",
    "# ... (all function definitions remain the same)\n",
    "\n",
    "count = 0\n",
    "head_and_shoulders_ranges = {}\n",
    "for size in hs_size:\n",
    "    for stock_df in df_list:\n",
    "        df = pd.read_csv(stock_df)\n",
    "        df['pivot'] = df.apply(lambda x: pivotid(df, x.name,hs_size[size][0],hs_size[size][0]), axis=1)\n",
    "        df['shortpivot'] = df.apply(lambda x: pivotid(df, x.name,hs_size[size][1],hs_size[size][1]), axis=1)\n",
    "        df['pointpos'] = df.apply(lambda row: pointpos(row), axis=1)\n",
    "        df['shortpointpos'] = df.apply(lambda row: shortpointpos(row), axis=1)\n",
    "        import matplotlib.pyplot as plt\n",
    "        from scipy.stats import linregress\n",
    "\n",
    "        backcandles = hs_size[size][0] - 1\n",
    "\n",
    "        for candleid in range(0, len(df) - backcandles):\n",
    "            if df.iloc[candleid].pivot != 2 or df.iloc[candleid].shortpivot != 2:\n",
    "                continue\n",
    "\n",
    "            maxim = np.array([])\n",
    "            minim = np.array([])\n",
    "            xxmin = np.array([])\n",
    "            xxmax = np.array([])\n",
    "            minbcount=0 #minimas before head\n",
    "            maxbcount=0 #maximas before head\n",
    "            minacount=0 #minimas after head\n",
    "            maxacount=0 #maximas after head\n",
    "\n",
    "            for i in range(candleid-backcandles, candleid+backcandles):\n",
    "                if df.iloc[i].shortpivot == 1:\n",
    "                    minim = np.append(minim, df.iloc[i].low)\n",
    "                    xxmin = np.append(xxmin, i)\n",
    "                    if i < candleid:\n",
    "                        minbcount=+1\n",
    "                    elif i>candleid:\n",
    "                        minacount+=1\n",
    "                if df.iloc[i].shortpivot == 2:\n",
    "                    maxim = np.append(maxim, df.iloc[i].high)\n",
    "                    xxmax = np.append(xxmax, i)\n",
    "                    if i < candleid:\n",
    "                        maxbcount+=1\n",
    "                    elif i>candleid:\n",
    "                        maxacount+=1\n",
    "\n",
    "            if minbcount<1 or minacount<1 or maxbcount<1 or maxacount<1:\n",
    "                continue\n",
    "\n",
    "            slmin, intercmin, rmin, pmin, semin = linregress(xxmin, minim)\n",
    "\n",
    "            headidx = np.argmax(maxim, axis=0)\n",
    "\n",
    "            if maxim[headidx]-maxim[headidx-1]>1.5e-3 and maxim[headidx]-maxim[headidx+1]>1.5e-3 and xxmin[0]>xxmax[headidx-1] and xxmin[1]<xxmax[headidx+1]:\n",
    "                # Add the range of indices for the detected head and shoulders pattern\n",
    "                if stock_df not in head_and_shoulders_ranges:\n",
    "                    head_and_shoulders_ranges[stock_df] = []\n",
    "                head_and_shoulders_ranges[stock_df].append(range(candleid - backcandles, candleid + backcandles))\n",
    "\n",
    "\n",
    "\n",
    "# Flatten the list of ranges and convert to a set for faster lookups\n",
    "head_and_shoulders_indices = set(index for r in head_and_shoulders_ranges for index in r)\n",
    "\n"
   ]
  },
  {
   "cell_type": "code",
   "execution_count": null,
   "id": "3ff33137",
   "metadata": {
    "execution": {
     "iopub.status.busy": "2023-05-10T17:58:54.095582Z",
     "iopub.status.idle": "2023-05-10T17:58:54.096170Z",
     "shell.execute_reply": "2023-05-10T17:58:54.095913Z",
     "shell.execute_reply.started": "2023-05-10T17:58:54.095885Z"
    }
   },
   "outputs": [],
   "source": [
    "head_and_shoulders_ranges"
   ]
  },
  {
   "cell_type": "code",
   "execution_count": null,
   "id": "1aa80c29-10ab-4f1a-b2de-3c18416f470a",
   "metadata": {
    "execution": {
     "iopub.execute_input": "2023-05-10T16:51:59.576101Z",
     "iopub.status.busy": "2023-05-10T16:51:59.575770Z"
    }
   },
   "outputs": [],
   "source": [
    "count=0\n",
    "for size in hs_size:\n",
    "    for stock_df in df_list:\n",
    "        df = pd.read_csv(stock_df)\n",
    "        \n",
    "        backcandles = hs_size[size][0] - 1\n",
    "        \n",
    "        non_hs_ranges = []\n",
    "        if stock_df in head_and_shoulders_ranges:\n",
    "            # Get the non-head and shoulders ranges by subtracting all head and shoulders ranges from the full range of the df\n",
    "            full_range = set(range(0, len(df)))\n",
    "            hs_ranges = head_and_shoulders_ranges[stock_df]\n",
    "            for hs_range in hs_ranges:\n",
    "                full_range -= set(range(hs_range[0], hs_range[1]+1)) # Add 1 to include the end index\n",
    "            non_hs_ranges = list(full_range)\n",
    "\n",
    "        # Loop through the non-head and shoulders ranges\n",
    "        candle_start = 0\n",
    "        print(non_hs_ranges)\n",
    "        for candleid in non_hs_ranges:\n",
    "            if candleid >= candle_start and candleid > 0+backcandles:\n",
    "                print(f'Back candles left is {candleid-backcandles}')\n",
    "                print(f'Back candles right is {candleid+backcandles}')\n",
    "                if (candleid-backcandles) in non_hs_ranges and (candleid+backcandles) in non_hs_ranges:\n",
    "                    # Plot the non-head and shoulders patterns\n",
    "                    dfpl = df[candleid-backcandles: candleid+backcandles]\n",
    "\n",
    "                    plt.plot(dfpl.index, dfpl['close'])\n",
    "\n",
    "                    # Remove tick labels\n",
    "                    plt.gca().set_xticklabels([])\n",
    "                    plt.gca().set_yticklabels([])\n",
    "\n",
    "                    # Remove tick marks\n",
    "                    plt.gca().tick_params(axis='x', length=0)\n",
    "                    plt.gca().tick_params(axis='y', length=0)\n",
    "\n",
    "                    # Replace 'hs' with the desired folder name\n",
    "                    folder_name = 'non_hs'\n",
    "\n",
    "                    # Check if the folder exists, if not, create it\n",
    "                    if not os.path.exists(folder_name):\n",
    "                        os.makedirs(folder_name)\n",
    "\n",
    "                    folder_path = os.path.abspath(folder_name)\n",
    "                    print(f\"Folder path: {folder_path}\")\n",
    "\n",
    "                    # Save the plot to the folder\n",
    "                    file_path = f'{folder_name}/closing_price_lineplot_{stock_df}_{size}_{candleid}.png'\n",
    "                    plt.savefig(file_path, dpi=50)\n",
    "                    print(f\"File saved at: {os.path.abspath(file_path)}\")\n",
    "                    print(f\"SIZE IS {size}\")\n",
    "                    print(f\"count is {count}\")\n",
    "                    plt.show()\n",
    "                    fig = go.Figure(data=[go.Candlestick(x=dfpl.index,\n",
    "                                    open=dfpl['open'],\n",
    "                                    high=dfpl['high'],\n",
    "                                    low=dfpl['low'],\n",
    "                                    close=dfpl['close'])])\n",
    "                    fig.update_layout(\n",
    "                        xaxis_rangeslider_visible=False,\n",
    "                        xaxis=dict(\n",
    "                            showticklabels=False  # Remove x-axis tick labels (numbers)\n",
    "                        ),\n",
    "                        yaxis=dict(\n",
    "                            showticklabels=False  # Remove y-axis tick labels (numbers)\n",
    "                        )\n",
    "                    )\n",
    "                    fig.show()\n",
    "                    # Replace the folder path below with your desired folder path\n",
    "                    folder_path = \"non_hs/\"\n",
    "                    file_name = f\"candlestick_plot_{stock_df}_{size}_{candleid}.png\"\n",
    "                    full_path = folder_path + file_name\n",
    "                    pio.write_image(fig, full_path, format=\"png\")\n",
    "\n",
    "                    count+=1\n",
    "                    candle_start = candleid+backcandles\n"
   ]
  },
  {
   "cell_type": "code",
   "execution_count": null,
   "id": "fb21b18d-e5ca-4196-970e-08201d6e5397",
   "metadata": {
    "execution": {
     "iopub.execute_input": "2023-05-10T17:59:04.401417Z",
     "iopub.status.busy": "2023-05-10T17:59:04.399844Z"
    }
   },
   "outputs": [],
   "source": [
    "!zip -r non_hs.zip non_hs\n"
   ]
  }
 ],
 "metadata": {
  "kernelspec": {
   "display_name": "Python 3 (ipykernel)",
   "language": "python",
   "name": "python3"
  },
  "language_info": {
   "codemirror_mode": {
    "name": "ipython",
    "version": 3
   },
   "file_extension": ".py",
   "mimetype": "text/x-python",
   "name": "python",
   "nbconvert_exporter": "python",
   "pygments_lexer": "ipython3",
   "version": "3.9.16"
  }
 },
 "nbformat": 4,
 "nbformat_minor": 5
}
